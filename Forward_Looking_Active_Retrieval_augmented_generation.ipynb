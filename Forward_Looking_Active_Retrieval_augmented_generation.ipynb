{
  "nbformat": 4,
  "nbformat_minor": 0,
  "metadata": {
    "colab": {
      "provenance": [],
      "authorship_tag": "ABX9TyPpcSHSZH60dmBUXYgwBlcz",
      "include_colab_link": true
    },
    "kernelspec": {
      "name": "python3",
      "display_name": "Python 3"
    },
    "language_info": {
      "name": "python"
    }
  },
  "cells": [
    {
      "cell_type": "markdown",
      "metadata": {
        "id": "view-in-github",
        "colab_type": "text"
      },
      "source": [
        "<a href=\"https://colab.research.google.com/github/JapiKredi/Forward_Looking_Active_Retrieval_augmented_generation/blob/main/Forward_Looking_Active_Retrieval_augmented_generation.ipynb\" target=\"_parent\"><img src=\"https://colab.research.google.com/assets/colab-badge.svg\" alt=\"Open In Colab\"/></a>"
      ]
    },
    {
      "cell_type": "markdown",
      "source": [
        "### Retrieve as you generate with FLARE"
      ],
      "metadata": {
        "id": "9gfkBem8f4Sf"
      }
    },
    {
      "cell_type": "markdown",
      "source": [
        "This notebook is an implementation of Forward-Looking Active REtrieval augmented generation (FLARE).\n",
        "\n",
        "Please see the original repo here.\n",
        "\n",
        "The basic idea is:\n",
        "\n",
        "Start answering a question\n",
        "If you start generating tokens the model is uncertain about, look up relevant documents\n",
        "Use those documents to continue generating\n",
        "Repeat until finished\n",
        "There is a lot of cool detail in how the lookup of relevant documents is done. Basically, the tokens that model is uncertain about are highlighted, and then an LLM is called to generate a question that would lead to that answer. For example, if the generated text is Joe Biden went to Harvard, and the tokens the model was uncertain about was Harvard, then a good generated question would be where did Joe Biden go to college. This generated question is then used in a retrieval step to fetch relevant documents.\n",
        "\n",
        "In order to set up this chain, we will need three things:\n",
        "\n",
        "An LLM to generate the answer\n",
        "An LLM to generate hypothetical questions to use in retrieval\n",
        "A retriever to use to look up answers for\n",
        "The LLM that we use to generate the answer needs to return logprobs so we can identify uncertain tokens. For that reason, we HIGHLY recommend that you use the OpenAI wrapper (NB: not the ChatOpenAI wrapper, as that does not return logprobs).\n",
        "\n",
        "The LLM we use to generate hypothetical questions to use in retrieval can be anything. In this notebook we will use ChatOpenAI because it is fast and cheap.\n",
        "\n",
        "The retriever can be anything. In this notebook we will use SERPER search engine, because it is cheap.\n",
        "\n",
        "Other important parameters to understand:\n",
        "\n",
        "max_generation_len: The maximum number of tokens to generate before stopping to check if any are uncertain\n",
        "min_prob: Any tokens generated with probability below this will be considered uncertain\n"
      ],
      "metadata": {
        "id": "GdPhjnIyf71i"
      }
    },
    {
      "cell_type": "markdown",
      "source": [
        "### Imports"
      ],
      "metadata": {
        "id": "jVr5kyRxgDXQ"
      }
    },
    {
      "cell_type": "code",
      "execution_count": 26,
      "metadata": {
        "id": "3QBZQSkufyTY"
      },
      "outputs": [],
      "source": [
        "from google.colab import userdata\n",
        "OPENAI_API_KEY = userdata.get('openai_key')"
      ]
    },
    {
      "cell_type": "code",
      "execution_count": 27,
      "metadata": {
        "id": "NFeu1qXXh0gC"
      },
      "outputs": [],
      "source": [
        "from google.colab import userdata\n",
        "SERPER_API_KEY = userdata.get('SERPER_API_KEY')"
      ]
    },
    {
      "cell_type": "code",
      "source": [
        "import os\n",
        "\n",
        "os.environ[\"SERPER_API_KEY\"] = SERPER_API_KEY\n",
        "os.environ[\"OPENAI_API_KEY\"] = OPENAI_API_KEY"
      ],
      "metadata": {
        "id": "6MahqESGkbpA"
      },
      "execution_count": 28,
      "outputs": []
    },
    {
      "cell_type": "code",
      "source": [
        "!pip install langchain"
      ],
      "metadata": {
        "colab": {
          "base_uri": "https://localhost:8080/"
        },
        "id": "bh4Uo47CiLo6",
        "outputId": "46f8c82a-560b-46a1-9f70-7ec50266a5a0"
      },
      "execution_count": 4,
      "outputs": [
        {
          "output_type": "stream",
          "name": "stdout",
          "text": [
            "Collecting langchain\n",
            "  Downloading langchain-0.1.12-py3-none-any.whl (809 kB)\n",
            "\u001b[2K     \u001b[90m━━━━━━━━━━━━━━━━━━━━━━━━━━━━━━━━━━━━━━━━\u001b[0m \u001b[32m809.1/809.1 kB\u001b[0m \u001b[31m4.2 MB/s\u001b[0m eta \u001b[36m0:00:00\u001b[0m\n",
            "\u001b[?25hRequirement already satisfied: PyYAML>=5.3 in /usr/local/lib/python3.10/dist-packages (from langchain) (6.0.1)\n",
            "Requirement already satisfied: SQLAlchemy<3,>=1.4 in /usr/local/lib/python3.10/dist-packages (from langchain) (2.0.28)\n",
            "Requirement already satisfied: aiohttp<4.0.0,>=3.8.3 in /usr/local/lib/python3.10/dist-packages (from langchain) (3.9.3)\n",
            "Requirement already satisfied: async-timeout<5.0.0,>=4.0.0 in /usr/local/lib/python3.10/dist-packages (from langchain) (4.0.3)\n",
            "Collecting dataclasses-json<0.7,>=0.5.7 (from langchain)\n",
            "  Downloading dataclasses_json-0.6.4-py3-none-any.whl (28 kB)\n",
            "Collecting jsonpatch<2.0,>=1.33 (from langchain)\n",
            "  Downloading jsonpatch-1.33-py2.py3-none-any.whl (12 kB)\n",
            "Collecting langchain-community<0.1,>=0.0.28 (from langchain)\n",
            "  Downloading langchain_community-0.0.28-py3-none-any.whl (1.8 MB)\n",
            "\u001b[2K     \u001b[90m━━━━━━━━━━━━━━━━━━━━━━━━━━━━━━━━━━━━━━━━\u001b[0m \u001b[32m1.8/1.8 MB\u001b[0m \u001b[31m14.0 MB/s\u001b[0m eta \u001b[36m0:00:00\u001b[0m\n",
            "\u001b[?25hCollecting langchain-core<0.2.0,>=0.1.31 (from langchain)\n",
            "  Downloading langchain_core-0.1.32-py3-none-any.whl (260 kB)\n",
            "\u001b[2K     \u001b[90m━━━━━━━━━━━━━━━━━━━━━━━━━━━━━━━━━━━━━━━━\u001b[0m \u001b[32m260.9/260.9 kB\u001b[0m \u001b[31m15.7 MB/s\u001b[0m eta \u001b[36m0:00:00\u001b[0m\n",
            "\u001b[?25hCollecting langchain-text-splitters<0.1,>=0.0.1 (from langchain)\n",
            "  Downloading langchain_text_splitters-0.0.1-py3-none-any.whl (21 kB)\n",
            "Collecting langsmith<0.2.0,>=0.1.17 (from langchain)\n",
            "  Downloading langsmith-0.1.26-py3-none-any.whl (67 kB)\n",
            "\u001b[2K     \u001b[90m━━━━━━━━━━━━━━━━━━━━━━━━━━━━━━━━━━━━━━━━\u001b[0m \u001b[32m67.9/67.9 kB\u001b[0m \u001b[31m8.0 MB/s\u001b[0m eta \u001b[36m0:00:00\u001b[0m\n",
            "\u001b[?25hRequirement already satisfied: numpy<2,>=1 in /usr/local/lib/python3.10/dist-packages (from langchain) (1.25.2)\n",
            "Requirement already satisfied: pydantic<3,>=1 in /usr/local/lib/python3.10/dist-packages (from langchain) (2.6.3)\n",
            "Requirement already satisfied: requests<3,>=2 in /usr/local/lib/python3.10/dist-packages (from langchain) (2.31.0)\n",
            "Requirement already satisfied: tenacity<9.0.0,>=8.1.0 in /usr/local/lib/python3.10/dist-packages (from langchain) (8.2.3)\n",
            "Requirement already satisfied: aiosignal>=1.1.2 in /usr/local/lib/python3.10/dist-packages (from aiohttp<4.0.0,>=3.8.3->langchain) (1.3.1)\n",
            "Requirement already satisfied: attrs>=17.3.0 in /usr/local/lib/python3.10/dist-packages (from aiohttp<4.0.0,>=3.8.3->langchain) (23.2.0)\n",
            "Requirement already satisfied: frozenlist>=1.1.1 in /usr/local/lib/python3.10/dist-packages (from aiohttp<4.0.0,>=3.8.3->langchain) (1.4.1)\n",
            "Requirement already satisfied: multidict<7.0,>=4.5 in /usr/local/lib/python3.10/dist-packages (from aiohttp<4.0.0,>=3.8.3->langchain) (6.0.5)\n",
            "Requirement already satisfied: yarl<2.0,>=1.0 in /usr/local/lib/python3.10/dist-packages (from aiohttp<4.0.0,>=3.8.3->langchain) (1.9.4)\n",
            "Collecting marshmallow<4.0.0,>=3.18.0 (from dataclasses-json<0.7,>=0.5.7->langchain)\n",
            "  Downloading marshmallow-3.21.1-py3-none-any.whl (49 kB)\n",
            "\u001b[2K     \u001b[90m━━━━━━━━━━━━━━━━━━━━━━━━━━━━━━━━━━━━━━━━\u001b[0m \u001b[32m49.4/49.4 kB\u001b[0m \u001b[31m5.1 MB/s\u001b[0m eta \u001b[36m0:00:00\u001b[0m\n",
            "\u001b[?25hCollecting typing-inspect<1,>=0.4.0 (from dataclasses-json<0.7,>=0.5.7->langchain)\n",
            "  Downloading typing_inspect-0.9.0-py3-none-any.whl (8.8 kB)\n",
            "Collecting jsonpointer>=1.9 (from jsonpatch<2.0,>=1.33->langchain)\n",
            "  Downloading jsonpointer-2.4-py2.py3-none-any.whl (7.8 kB)\n",
            "Requirement already satisfied: anyio<5,>=3 in /usr/local/lib/python3.10/dist-packages (from langchain-core<0.2.0,>=0.1.31->langchain) (3.7.1)\n",
            "Collecting packaging<24.0,>=23.2 (from langchain-core<0.2.0,>=0.1.31->langchain)\n",
            "  Downloading packaging-23.2-py3-none-any.whl (53 kB)\n",
            "\u001b[2K     \u001b[90m━━━━━━━━━━━━━━━━━━━━━━━━━━━━━━━━━━━━━━━━\u001b[0m \u001b[32m53.0/53.0 kB\u001b[0m \u001b[31m3.9 MB/s\u001b[0m eta \u001b[36m0:00:00\u001b[0m\n",
            "\u001b[?25hCollecting orjson<4.0.0,>=3.9.14 (from langsmith<0.2.0,>=0.1.17->langchain)\n",
            "  Downloading orjson-3.9.15-cp310-cp310-manylinux_2_17_x86_64.manylinux2014_x86_64.whl (138 kB)\n",
            "\u001b[2K     \u001b[90m━━━━━━━━━━━━━━━━━━━━━━━━━━━━━━━━━━━━━━━━\u001b[0m \u001b[32m138.5/138.5 kB\u001b[0m \u001b[31m14.0 MB/s\u001b[0m eta \u001b[36m0:00:00\u001b[0m\n",
            "\u001b[?25hRequirement already satisfied: annotated-types>=0.4.0 in /usr/local/lib/python3.10/dist-packages (from pydantic<3,>=1->langchain) (0.6.0)\n",
            "Requirement already satisfied: pydantic-core==2.16.3 in /usr/local/lib/python3.10/dist-packages (from pydantic<3,>=1->langchain) (2.16.3)\n",
            "Requirement already satisfied: typing-extensions>=4.6.1 in /usr/local/lib/python3.10/dist-packages (from pydantic<3,>=1->langchain) (4.10.0)\n",
            "Requirement already satisfied: charset-normalizer<4,>=2 in /usr/local/lib/python3.10/dist-packages (from requests<3,>=2->langchain) (3.3.2)\n",
            "Requirement already satisfied: idna<4,>=2.5 in /usr/local/lib/python3.10/dist-packages (from requests<3,>=2->langchain) (3.6)\n",
            "Requirement already satisfied: urllib3<3,>=1.21.1 in /usr/local/lib/python3.10/dist-packages (from requests<3,>=2->langchain) (2.0.7)\n",
            "Requirement already satisfied: certifi>=2017.4.17 in /usr/local/lib/python3.10/dist-packages (from requests<3,>=2->langchain) (2024.2.2)\n",
            "Requirement already satisfied: greenlet!=0.4.17 in /usr/local/lib/python3.10/dist-packages (from SQLAlchemy<3,>=1.4->langchain) (3.0.3)\n",
            "Requirement already satisfied: sniffio>=1.1 in /usr/local/lib/python3.10/dist-packages (from anyio<5,>=3->langchain-core<0.2.0,>=0.1.31->langchain) (1.3.1)\n",
            "Requirement already satisfied: exceptiongroup in /usr/local/lib/python3.10/dist-packages (from anyio<5,>=3->langchain-core<0.2.0,>=0.1.31->langchain) (1.2.0)\n",
            "Collecting mypy-extensions>=0.3.0 (from typing-inspect<1,>=0.4.0->dataclasses-json<0.7,>=0.5.7->langchain)\n",
            "  Downloading mypy_extensions-1.0.0-py3-none-any.whl (4.7 kB)\n",
            "Installing collected packages: packaging, orjson, mypy-extensions, jsonpointer, typing-inspect, marshmallow, jsonpatch, langsmith, dataclasses-json, langchain-core, langchain-text-splitters, langchain-community, langchain\n",
            "  Attempting uninstall: packaging\n",
            "    Found existing installation: packaging 24.0\n",
            "    Uninstalling packaging-24.0:\n",
            "      Successfully uninstalled packaging-24.0\n",
            "Successfully installed dataclasses-json-0.6.4 jsonpatch-1.33 jsonpointer-2.4 langchain-0.1.12 langchain-community-0.0.28 langchain-core-0.1.32 langchain-text-splitters-0.0.1 langsmith-0.1.26 marshmallow-3.21.1 mypy-extensions-1.0.0 orjson-3.9.15 packaging-23.2 typing-inspect-0.9.0\n"
          ]
        }
      ]
    },
    {
      "cell_type": "code",
      "source": [
        "!pip install langchain_openai"
      ],
      "metadata": {
        "colab": {
          "base_uri": "https://localhost:8080/"
        },
        "id": "izCLi40jiVfo",
        "outputId": "5baf140b-18e9-4704-942b-8f1234c195c3"
      },
      "execution_count": 6,
      "outputs": [
        {
          "output_type": "stream",
          "name": "stdout",
          "text": [
            "Collecting langchain_openai\n",
            "  Downloading langchain_openai-0.0.8-py3-none-any.whl (32 kB)\n",
            "Requirement already satisfied: langchain-core<0.2.0,>=0.1.27 in /usr/local/lib/python3.10/dist-packages (from langchain_openai) (0.1.32)\n",
            "Collecting openai<2.0.0,>=1.10.0 (from langchain_openai)\n",
            "  Downloading openai-1.14.0-py3-none-any.whl (257 kB)\n",
            "\u001b[2K     \u001b[90m━━━━━━━━━━━━━━━━━━━━━━━━━━━━━━━━━━━━━━━━\u001b[0m \u001b[32m257.5/257.5 kB\u001b[0m \u001b[31m2.8 MB/s\u001b[0m eta \u001b[36m0:00:00\u001b[0m\n",
            "\u001b[?25hCollecting tiktoken<1,>=0.5.2 (from langchain_openai)\n",
            "  Downloading tiktoken-0.6.0-cp310-cp310-manylinux_2_17_x86_64.manylinux2014_x86_64.whl (1.8 MB)\n",
            "\u001b[2K     \u001b[90m━━━━━━━━━━━━━━━━━━━━━━━━━━━━━━━━━━━━━━━━\u001b[0m \u001b[32m1.8/1.8 MB\u001b[0m \u001b[31m18.4 MB/s\u001b[0m eta \u001b[36m0:00:00\u001b[0m\n",
            "\u001b[?25hRequirement already satisfied: PyYAML>=5.3 in /usr/local/lib/python3.10/dist-packages (from langchain-core<0.2.0,>=0.1.27->langchain_openai) (6.0.1)\n",
            "Requirement already satisfied: anyio<5,>=3 in /usr/local/lib/python3.10/dist-packages (from langchain-core<0.2.0,>=0.1.27->langchain_openai) (3.7.1)\n",
            "Requirement already satisfied: jsonpatch<2.0,>=1.33 in /usr/local/lib/python3.10/dist-packages (from langchain-core<0.2.0,>=0.1.27->langchain_openai) (1.33)\n",
            "Requirement already satisfied: langsmith<0.2.0,>=0.1.0 in /usr/local/lib/python3.10/dist-packages (from langchain-core<0.2.0,>=0.1.27->langchain_openai) (0.1.26)\n",
            "Requirement already satisfied: packaging<24.0,>=23.2 in /usr/local/lib/python3.10/dist-packages (from langchain-core<0.2.0,>=0.1.27->langchain_openai) (23.2)\n",
            "Requirement already satisfied: pydantic<3,>=1 in /usr/local/lib/python3.10/dist-packages (from langchain-core<0.2.0,>=0.1.27->langchain_openai) (2.6.3)\n",
            "Requirement already satisfied: requests<3,>=2 in /usr/local/lib/python3.10/dist-packages (from langchain-core<0.2.0,>=0.1.27->langchain_openai) (2.31.0)\n",
            "Requirement already satisfied: tenacity<9.0.0,>=8.1.0 in /usr/local/lib/python3.10/dist-packages (from langchain-core<0.2.0,>=0.1.27->langchain_openai) (8.2.3)\n",
            "Requirement already satisfied: distro<2,>=1.7.0 in /usr/lib/python3/dist-packages (from openai<2.0.0,>=1.10.0->langchain_openai) (1.7.0)\n",
            "Collecting httpx<1,>=0.23.0 (from openai<2.0.0,>=1.10.0->langchain_openai)\n",
            "  Downloading httpx-0.27.0-py3-none-any.whl (75 kB)\n",
            "\u001b[2K     \u001b[90m━━━━━━━━━━━━━━━━━━━━━━━━━━━━━━━━━━━━━━━━\u001b[0m \u001b[32m75.6/75.6 kB\u001b[0m \u001b[31m7.6 MB/s\u001b[0m eta \u001b[36m0:00:00\u001b[0m\n",
            "\u001b[?25hRequirement already satisfied: sniffio in /usr/local/lib/python3.10/dist-packages (from openai<2.0.0,>=1.10.0->langchain_openai) (1.3.1)\n",
            "Requirement already satisfied: tqdm>4 in /usr/local/lib/python3.10/dist-packages (from openai<2.0.0,>=1.10.0->langchain_openai) (4.66.2)\n",
            "Requirement already satisfied: typing-extensions<5,>=4.7 in /usr/local/lib/python3.10/dist-packages (from openai<2.0.0,>=1.10.0->langchain_openai) (4.10.0)\n",
            "Requirement already satisfied: regex>=2022.1.18 in /usr/local/lib/python3.10/dist-packages (from tiktoken<1,>=0.5.2->langchain_openai) (2023.12.25)\n",
            "Requirement already satisfied: idna>=2.8 in /usr/local/lib/python3.10/dist-packages (from anyio<5,>=3->langchain-core<0.2.0,>=0.1.27->langchain_openai) (3.6)\n",
            "Requirement already satisfied: exceptiongroup in /usr/local/lib/python3.10/dist-packages (from anyio<5,>=3->langchain-core<0.2.0,>=0.1.27->langchain_openai) (1.2.0)\n",
            "Requirement already satisfied: certifi in /usr/local/lib/python3.10/dist-packages (from httpx<1,>=0.23.0->openai<2.0.0,>=1.10.0->langchain_openai) (2024.2.2)\n",
            "Collecting httpcore==1.* (from httpx<1,>=0.23.0->openai<2.0.0,>=1.10.0->langchain_openai)\n",
            "  Downloading httpcore-1.0.4-py3-none-any.whl (77 kB)\n",
            "\u001b[2K     \u001b[90m━━━━━━━━━━━━━━━━━━━━━━━━━━━━━━━━━━━━━━━━\u001b[0m \u001b[32m77.8/77.8 kB\u001b[0m \u001b[31m8.5 MB/s\u001b[0m eta \u001b[36m0:00:00\u001b[0m\n",
            "\u001b[?25hCollecting h11<0.15,>=0.13 (from httpcore==1.*->httpx<1,>=0.23.0->openai<2.0.0,>=1.10.0->langchain_openai)\n",
            "  Downloading h11-0.14.0-py3-none-any.whl (58 kB)\n",
            "\u001b[2K     \u001b[90m━━━━━━━━━━━━━━━━━━━━━━━━━━━━━━━━━━━━━━━━\u001b[0m \u001b[32m58.3/58.3 kB\u001b[0m \u001b[31m6.2 MB/s\u001b[0m eta \u001b[36m0:00:00\u001b[0m\n",
            "\u001b[?25hRequirement already satisfied: jsonpointer>=1.9 in /usr/local/lib/python3.10/dist-packages (from jsonpatch<2.0,>=1.33->langchain-core<0.2.0,>=0.1.27->langchain_openai) (2.4)\n",
            "Requirement already satisfied: orjson<4.0.0,>=3.9.14 in /usr/local/lib/python3.10/dist-packages (from langsmith<0.2.0,>=0.1.0->langchain-core<0.2.0,>=0.1.27->langchain_openai) (3.9.15)\n",
            "Requirement already satisfied: annotated-types>=0.4.0 in /usr/local/lib/python3.10/dist-packages (from pydantic<3,>=1->langchain-core<0.2.0,>=0.1.27->langchain_openai) (0.6.0)\n",
            "Requirement already satisfied: pydantic-core==2.16.3 in /usr/local/lib/python3.10/dist-packages (from pydantic<3,>=1->langchain-core<0.2.0,>=0.1.27->langchain_openai) (2.16.3)\n",
            "Requirement already satisfied: charset-normalizer<4,>=2 in /usr/local/lib/python3.10/dist-packages (from requests<3,>=2->langchain-core<0.2.0,>=0.1.27->langchain_openai) (3.3.2)\n",
            "Requirement already satisfied: urllib3<3,>=1.21.1 in /usr/local/lib/python3.10/dist-packages (from requests<3,>=2->langchain-core<0.2.0,>=0.1.27->langchain_openai) (2.0.7)\n",
            "Installing collected packages: h11, tiktoken, httpcore, httpx, openai, langchain_openai\n",
            "Successfully installed h11-0.14.0 httpcore-1.0.4 httpx-0.27.0 langchain_openai-0.0.8 openai-1.14.0 tiktoken-0.6.0\n"
          ]
        }
      ]
    },
    {
      "cell_type": "code",
      "source": [
        "from typing import Any, List\n",
        "\n",
        "from langchain.callbacks.manager import (\n",
        "    AsyncCallbackManagerForRetrieverRun,\n",
        "    CallbackManagerForRetrieverRun,\n",
        ")\n",
        "from langchain_community.utilities import GoogleSerperAPIWrapper\n",
        "from langchain_core.documents import Document\n",
        "from langchain_core.retrievers import BaseRetriever\n",
        "from langchain_openai import ChatOpenAI, OpenAI"
      ],
      "metadata": {
        "id": "oQNH1JqIh0gE"
      },
      "execution_count": 29,
      "outputs": []
    },
    {
      "cell_type": "markdown",
      "source": [
        "# Retriever"
      ],
      "metadata": {
        "id": "4hJJW3JziiWi"
      }
    },
    {
      "cell_type": "code",
      "source": [
        "class SerperSearchRetriever(BaseRetriever):\n",
        "    search: GoogleSerperAPIWrapper = None\n",
        "\n",
        "    def _get_relevant_documents(\n",
        "        self, query: str, *, run_manager: CallbackManagerForRetrieverRun, **kwargs: Any\n",
        "    ) -> List[Document]:\n",
        "        return [Document(page_content=self.search.run(query))]\n",
        "\n",
        "    async def _aget_relevant_documents(\n",
        "        self,\n",
        "        query: str,\n",
        "        *,\n",
        "        run_manager: AsyncCallbackManagerForRetrieverRun,\n",
        "        **kwargs: Any,\n",
        "    ) -> List[Document]:\n",
        "        raise NotImplementedError()\n",
        "\n",
        "\n",
        "retriever = SerperSearchRetriever(search=GoogleSerperAPIWrapper(serper_api_key=SERPER_API_KEY))"
      ],
      "metadata": {
        "id": "k0Zq4l_uf6Hw"
      },
      "execution_count": 30,
      "outputs": []
    },
    {
      "cell_type": "markdown",
      "source": [
        "# FLARE Chain"
      ],
      "metadata": {
        "id": "t7h3GwqjjMAg"
      }
    },
    {
      "cell_type": "code",
      "source": [
        "# We set this so we can see what exactly is going on\n",
        "from langchain.globals import set_verbose\n",
        "\n",
        "set_verbose(True)"
      ],
      "metadata": {
        "id": "jeDIW9yWilkS"
      },
      "execution_count": 31,
      "outputs": []
    },
    {
      "cell_type": "code",
      "source": [
        "from langchain.chains import FlareChain\n",
        "\n",
        "flare = FlareChain.from_llm(\n",
        "    ChatOpenAI(temperature=0),\n",
        "    retriever=retriever,\n",
        "    max_generation_len=164,\n",
        "    min_prob=0.3\n",
        ")"
      ],
      "metadata": {
        "id": "u5p3sgX7jR1E"
      },
      "execution_count": 32,
      "outputs": []
    },
    {
      "cell_type": "code",
      "source": [
        "query = \"explain in great detail the difference between the langchain framework and baby agi\""
      ],
      "metadata": {
        "id": "JdwnyywWjhHT"
      },
      "execution_count": 33,
      "outputs": []
    },
    {
      "cell_type": "code",
      "source": [
        "flare.run(query)"
      ],
      "metadata": {
        "colab": {
          "base_uri": "https://localhost:8080/",
          "height": 1000
        },
        "id": "HnSxJrjAk2fp",
        "outputId": "502ce1d3-8cd5-483f-daad-abbd22ef2932"
      },
      "execution_count": 34,
      "outputs": [
        {
          "output_type": "stream",
          "name": "stdout",
          "text": [
            "\n",
            "\n",
            "\u001b[1m> Entering new FlareChain chain...\u001b[0m\n",
            "\u001b[36;1m\u001b[1;3mCurrent Response: \u001b[0m\n",
            "Prompt after formatting:\n",
            "\u001b[32;1m\u001b[1;3mRespond to the user message using any relevant context. If context is provided, you should ground your answer in that context. Once you're done responding return FINISHED.\n",
            "\n",
            ">>> CONTEXT: \n",
            ">>> USER INPUT: explain in great detail the difference between the langchain framework and baby agi\n",
            ">>> RESPONSE: \u001b[0m\n",
            "\n",
            "\n",
            "\u001b[1m> Entering new QuestionGeneratorChain chain...\u001b[0m\n",
            "Prompt after formatting:\n",
            "\u001b[32;1m\u001b[1;3mGiven a user input and an existing partial response as context, ask a question to which the answer is the given term/entity/phrase:\n",
            "\n",
            ">>> USER INPUT: explain in great detail the difference between the langchain framework and baby agi\n",
            ">>> EXISTING PARTIAL RESPONSE:  \n",
            "The Langchain framework and Baby AGI are two different approaches to artificial general intelligence (AGI). While both aim to create intelligent machines that can perform a wide range of tasks, they differ in their underlying principles and methods.\n",
            "\n",
            "The Langchain framework is based on the idea of creating a hierarchical structure of languages, with each language building upon the previous one. This approach is inspired by the way humans learn and use language, and it aims to create a flexible and adaptable system that can handle complex tasks. The framework is designed to be self-improving, with each language layer improving upon the previous one, leading to the development of more advanced and sophisticated AI.\n",
            "\n",
            "On the other hand, Baby AGI is based on the concept of developmental robotics, which focuses on creating intelligent machines that learn and develop like human infants.\n",
            "\n",
            "The question to which the answer is the term/entity/phrase \" artificial general intelligence\" is:\u001b[0m\n",
            "Prompt after formatting:\n",
            "\u001b[32;1m\u001b[1;3mGiven a user input and an existing partial response as context, ask a question to which the answer is the given term/entity/phrase:\n",
            "\n",
            ">>> USER INPUT: explain in great detail the difference between the langchain framework and baby agi\n",
            ">>> EXISTING PARTIAL RESPONSE:  \n",
            "The Langchain framework and Baby AGI are two different approaches to artificial general intelligence (AGI). While both aim to create intelligent machines that can perform a wide range of tasks, they differ in their underlying principles and methods.\n",
            "\n",
            "The Langchain framework is based on the idea of creating a hierarchical structure of languages, with each language building upon the previous one. This approach is inspired by the way humans learn and use language, and it aims to create a flexible and adaptable system that can handle complex tasks. The framework is designed to be self-improving, with each language layer improving upon the previous one, leading to the development of more advanced and sophisticated AI.\n",
            "\n",
            "On the other hand, Baby AGI is based on the concept of developmental robotics, which focuses on creating intelligent machines that learn and develop like human infants.\n",
            "\n",
            "The question to which the answer is the term/entity/phrase \" creating a hierarchical structure of languages\" is:\u001b[0m\n",
            "Prompt after formatting:\n",
            "\u001b[32;1m\u001b[1;3mGiven a user input and an existing partial response as context, ask a question to which the answer is the given term/entity/phrase:\n",
            "\n",
            ">>> USER INPUT: explain in great detail the difference between the langchain framework and baby agi\n",
            ">>> EXISTING PARTIAL RESPONSE:  \n",
            "The Langchain framework and Baby AGI are two different approaches to artificial general intelligence (AGI). While both aim to create intelligent machines that can perform a wide range of tasks, they differ in their underlying principles and methods.\n",
            "\n",
            "The Langchain framework is based on the idea of creating a hierarchical structure of languages, with each language building upon the previous one. This approach is inspired by the way humans learn and use language, and it aims to create a flexible and adaptable system that can handle complex tasks. The framework is designed to be self-improving, with each language layer improving upon the previous one, leading to the development of more advanced and sophisticated AI.\n",
            "\n",
            "On the other hand, Baby AGI is based on the concept of developmental robotics, which focuses on creating intelligent machines that learn and develop like human infants.\n",
            "\n",
            "The question to which the answer is the term/entity/phrase \" self-impro\" is:\u001b[0m\n",
            "Prompt after formatting:\n",
            "\u001b[32;1m\u001b[1;3mGiven a user input and an existing partial response as context, ask a question to which the answer is the given term/entity/phrase:\n",
            "\n",
            ">>> USER INPUT: explain in great detail the difference between the langchain framework and baby agi\n",
            ">>> EXISTING PARTIAL RESPONSE:  \n",
            "The Langchain framework and Baby AGI are two different approaches to artificial general intelligence (AGI). While both aim to create intelligent machines that can perform a wide range of tasks, they differ in their underlying principles and methods.\n",
            "\n",
            "The Langchain framework is based on the idea of creating a hierarchical structure of languages, with each language building upon the previous one. This approach is inspired by the way humans learn and use language, and it aims to create a flexible and adaptable system that can handle complex tasks. The framework is designed to be self-improving, with each language layer improving upon the previous one, leading to the development of more advanced and sophisticated AI.\n",
            "\n",
            "On the other hand, Baby AGI is based on the concept of developmental robotics, which focuses on creating intelligent machines that learn and develop like human infants.\n",
            "\n",
            "The question to which the answer is the term/entity/phrase \" layer improving upon the\" is:\u001b[0m\n",
            "Prompt after formatting:\n",
            "\u001b[32;1m\u001b[1;3mGiven a user input and an existing partial response as context, ask a question to which the answer is the given term/entity/phrase:\n",
            "\n",
            ">>> USER INPUT: explain in great detail the difference between the langchain framework and baby agi\n",
            ">>> EXISTING PARTIAL RESPONSE:  \n",
            "The Langchain framework and Baby AGI are two different approaches to artificial general intelligence (AGI). While both aim to create intelligent machines that can perform a wide range of tasks, they differ in their underlying principles and methods.\n",
            "\n",
            "The Langchain framework is based on the idea of creating a hierarchical structure of languages, with each language building upon the previous one. This approach is inspired by the way humans learn and use language, and it aims to create a flexible and adaptable system that can handle complex tasks. The framework is designed to be self-improving, with each language layer improving upon the previous one, leading to the development of more advanced and sophisticated AI.\n",
            "\n",
            "On the other hand, Baby AGI is based on the concept of developmental robotics, which focuses on creating intelligent machines that learn and develop like human infants.\n",
            "\n",
            "The question to which the answer is the term/entity/phrase \" AI.\n",
            "\n",
            "On\" is:\u001b[0m\n",
            "Prompt after formatting:\n",
            "\u001b[32;1m\u001b[1;3mGiven a user input and an existing partial response as context, ask a question to which the answer is the given term/entity/phrase:\n",
            "\n",
            ">>> USER INPUT: explain in great detail the difference between the langchain framework and baby agi\n",
            ">>> EXISTING PARTIAL RESPONSE:  \n",
            "The Langchain framework and Baby AGI are two different approaches to artificial general intelligence (AGI). While both aim to create intelligent machines that can perform a wide range of tasks, they differ in their underlying principles and methods.\n",
            "\n",
            "The Langchain framework is based on the idea of creating a hierarchical structure of languages, with each language building upon the previous one. This approach is inspired by the way humans learn and use language, and it aims to create a flexible and adaptable system that can handle complex tasks. The framework is designed to be self-improving, with each language layer improving upon the previous one, leading to the development of more advanced and sophisticated AI.\n",
            "\n",
            "On the other hand, Baby AGI is based on the concept of developmental robotics, which focuses on creating intelligent machines that learn and develop like human infants.\n",
            "\n",
            "The question to which the answer is the term/entity/phrase \" developmental robotics,\" is:\u001b[0m\n",
            "\n",
            "\u001b[1m> Finished chain.\u001b[0m\n",
            "\u001b[33;1m\u001b[1;3mGenerated Questions: ['Can you explain the difference between the Langchain framework and Baby AGI in the context of artificial general intelligence?', 'What is the underlying principle of the Langchain framework in artificial general intelligence (AGI)?', 'How does the Langchain framework aim to continuously enhance its capabilities over time?', 'How does the Langchain framework aim to achieve self-improvement in its hierarchical structure of languages?', 'What are the underlying principles and methods of the Langchain framework and Baby AGI in the context of artificial general intelligence (AGI)?', 'What concept is Baby AGI based on, which focuses on creating intelligent machines that learn and develop like human infants?']\u001b[0m\n",
            "\n",
            "\n",
            "\u001b[1m> Entering new _OpenAIResponseChain chain...\u001b[0m\n",
            "Prompt after formatting:\n",
            "\u001b[32;1m\u001b[1;3mRespond to the user message using any relevant context. If context is provided, you should ground your answer in that context. Once you're done responding return FINISHED.\n",
            "\n",
            ">>> CONTEXT: The Langchain framework is a general-purpose AI framework that can be used for various applications, while Baby AGI is a more advanced AI system that can be used to create more complex applications.\n",
            "\n",
            "Chains are the fundamental principle that holds various AI components in LangChain to provide context-aware responses. A chain is a series of automated ... Missing: (AGI | Show results with:(AGI. Language chains are an integral part of the ever-evolving landscape of artificial intelligence, playing a crucial role in enhancing language ... Missing: underlying | Show results with:underlying. LangChain is a framework that simplifies the process of creating generative AI application interfaces. Developers working on these types of interfaces use ... Missing: principle (AGI. LangChain is a Python framework designed to streamline AI application development, focusing on real-time data processing and integration ... Missing: (AGI | Show results with:(AGI. Python and JavaScript (TypeScript) with a focus on composition and modularity. LangChain helps in developing LLM-based AI applications. Why Use ... Missing: (AGI | Show results with:(AGI. One of the core principles of AGI is natural language understanding and generation,. which enables AGI systems to communicate with human ... Artificial intelligence governance is the legal framework for ensuring AI and machine learning technologies are researched and developed with the goal of ... The system's core principles involve task creation, learning, adaptation, and integration with OpenAI and Pinecone. The LangChain framework is ... Missing: underlying | Show results with:underlying. LangChain enables GPT-4 to orchestrate complex tasks like searching the web, analyzing and writing documents, creating and executing software ... Missing: principle | Show results with:principle. Fundamental Working Principles. The working principles underlying ASI involve sophisticated neural architectures, deep learning frameworks ...\n",
            "\n",
            "It remembers instances of misunderstanding and user feedback to improve its responses continuously. This adaptive feature enhances reliability ... At its core, LangChain is an innovative framework tailored for crafting applications that leverage the capabilities of language models. Langchain makes creating agents using large language models simple through their agents API. Developers can use OpenAI functions or other means ... Missing: aim continuously enhance capabilities. As it continues to evolve and become more accessible, LangChain is poised to play a pivotal role in enhancing the quality and context-awareness ... Missing: aim | Show results with:aim. Flexibility: As a highly flexible and extensible framework, LangChain allows developers to easily swap components and customize the chain ... Missing: aim | Show results with:aim. The framework's capabilities extend to chatbots, document-based Q&A systems, and data analysis, demonstrating its versatility in automating and ... Missing: aim continuously. Develop skills to enhance chain efficiency by fine-tuning the structures, templates, and parsing techniques. Missing: aim | Show results with:aim. Enter LangChain - a cutting-edge framework designed to give superpowers to language models, and redefine the boundaries of what's possible in ... Missing: enhance | Show results with:enhance. LangChain uses the power of AI large language models combined with data sources to create quite powerful apps. Read how it works and how it's used. Missing: continuously | Show results with:continuously. These algorithms enable the framework to learn from data, make predictions, and continuously improve its performance over time. Neural ...\n",
            "\n",
            "It offers an innovative framework for integrating various language models and tools. This integration enables the construction of more complex ... Missing: aim self-. In this detailed article, we will explore the concept of LangChain, its innovative features, and how it aims to revolutionize language learning ... Missing: framework structure. LangChain is a framework for developing applications powered by language models. It enables applications that: Missing: aim self-. LangChain provides AI developers with tools to connect language models with external data sources. It is open-source and supported by an active community. ... Missing: self- hierarchical. This iterative approach will help you fine-tune your application and enhance its performance. Engage with the LangChain Community: The LangChain ... Missing: hierarchical | Show results with:hierarchical. LangChain uses the power of AI large language models combined with data sources to create quite powerful apps. Read how it works and how it's used. Missing: self- hierarchical structure. This one is useful when we want to organize documents into a hierarchy for better search results. For example, we can create separate list ... Missing: aim | Show results with:aim. These chains are designed to facilitate a seamless connection between various linguistic elements, enabling AI systems to comprehend and process ... In summary, LangChain is the framework for building language model applications, while LangSmith is the platform that enhances the development ... Reflexion (Shinn & Labash 2023) is a framework to equip agents with dynamic memory and self-reflection capabilities to improve reasoning skills.\n",
            "\n",
            "Core principles and components of Baby AGI The system's core principles involve task creation, learning, adaptation, and integration with OpenAI and Pinecone. The LangChain framework is crucial in decision-making, ensuring tasks align with predefined objectives.\n",
            "\n",
            "This allows researchers and developers worldwide to contribute to its development and explore its capabilities. BabyAGI. How to use Baby AGI? Missing: infants? | Show results with:infants?. An artificial superintelligence (ASI) is a hypothetical type of AGI that is much more generally intelligent than humans, while the notion of transformative AI ... Missing: Baby infants?. Nature of Baby AGI: Baby AGI is an open-source platform that draws inspiration from the cognitive development of human infants to facilitate ... AGI seeks machines that can make future plans based on previous knowledge and experiences. For AI to be generally intelligent, it must be able ... Baby AGI - The First AI Agent Powered By OpenAI's GPT 4: A Conversation With Its Creator ... Duration: 57:37. Posted: Jan 26, 2024. I will make the case that the roadmap towards AGI will have to be done through the development of stepping stone capabilities. human-like moral status to the AGI-enabled robots. This paper puts forward a functionality-based approach to examine the possibility of conferring human-like. The phrase \"baby AGI\" refers to artificial intelligence that has not yet completely matured and is still in its infancy, much like a developing ... Missing: concept | Show results with:concept. (AI): A broad field of science that initially aimed to develop what is now AGI. Over time, it has diversified to encompass a wide range of technologies ... Missing: Baby infants?. Artificial General Intelligence (AGI) refers to highly autonomous systems that possess the ability to outperform humans at most economically ... Missing: infants? | Show results with:infants?.\n",
            ">>> USER INPUT: explain in great detail the difference between the langchain framework and baby agi\n",
            ">>> RESPONSE: \u001b[0m\n",
            "\n",
            "\u001b[1m> Finished chain.\u001b[0m\n",
            "\u001b[36;1m\u001b[1;3mCurrent Response:  The Langchain framework and Baby AGI are two distinct but related concepts in the field of artificial intelligence. While both aim to enhance the capabilities of AI systems, they have different approaches and goals.\n",
            "\n",
            "The Langchain framework is a general-purpose AI framework that can be used for various applications. It is designed to simplify the process of creating generative AI application interfaces by providing a series of automated chains that hold various AI components together. These chains are designed to facilitate a seamless connection between various linguistic elements, enabling AI systems to comprehend and process language in a more context-aware manner. The framework is open-source and supported by an active community, allowing for continuous improvement and development.\n",
            "\n",
            "On the other hand, Baby AGI is a more advanced AI system that can be used to create more complex applications. It draws inspiration from the cognitive development\u001b[0m\n",
            "Prompt after formatting:\n",
            "\u001b[32;1m\u001b[1;3mRespond to the user message using any relevant context. If context is provided, you should ground your answer in that context. Once you're done responding return FINISHED.\n",
            "\n",
            ">>> CONTEXT: \n",
            ">>> USER INPUT: explain in great detail the difference between the langchain framework and baby agi\n",
            ">>> RESPONSE:  The Langchain framework and Baby AGI are two distinct but related concepts in the field of artificial intelligence. While both aim to enhance the capabilities of AI systems, they have different approaches and goals.\n",
            "\n",
            "The Langchain framework is a general-purpose AI framework that can be used for various applications. It is designed to simplify the process of creating generative AI application interfaces by providing a series of automated chains that hold various AI components together. These chains are designed to facilitate a seamless connection between various linguistic elements, enabling AI systems to comprehend and process language in a more context-aware manner. The framework is open-source and supported by an active community, allowing for continuous improvement and development.\n",
            "\n",
            "On the other hand, Baby AGI is a more advanced AI system that can be used to create more complex applications. It draws inspiration from the cognitive development\u001b[0m\n",
            "\n",
            "\n",
            "\u001b[1m> Entering new QuestionGeneratorChain chain...\u001b[0m\n",
            "Prompt after formatting:\n",
            "\u001b[32;1m\u001b[1;3mGiven a user input and an existing partial response as context, ask a question to which the answer is the given term/entity/phrase:\n",
            "\n",
            ">>> USER INPUT: explain in great detail the difference between the langchain framework and baby agi\n",
            ">>> EXISTING PARTIAL RESPONSE: The Langchain framework and Baby AGI are two distinct but related concepts in the field of artificial intelligence. While both aim to enhance the capabilities of AI systems, they have different approaches and goals.\n",
            "\n",
            "The Langchain framework is a general-purpose AI framework that can be used for various applications. It is designed to simplify the process of creating generative AI application interfaces by providing a series of automated chains that hold various AI components together. These chains are designed to facilitate a seamless connection between various linguistic elements, enabling AI systems to comprehend and process language in a more context-aware manner. The framework is open-source and supported by an active community, allowing for continuous improvement and development.\n",
            "\n",
            "On the other hand, Baby AGI is a more advanced AI system that can be used to create more complex applications. It draws inspiration from the cognitive development  of infants and aims to create an artificial general intelligence (AGI) that can learn and adapt to new situations and tasks. Unlike the Langchain framework, Baby AGI is not limited to language processing and can be applied to various domains, such as robotics, computer vision, and natural language understanding.\n",
            "\n",
            "In summary, the main difference between the Langchain framework and Baby AGI is their scope and purpose. While the Langchain framework focuses on simplifying the creation of AI applications with a focus on language processing, Baby AGI aims to create a more advanced and versatile AI system that can learn and adapt like a human.\n",
            "\n",
            "The question to which the answer is the term/entity/phrase \" focus on language\" is:\u001b[0m\n",
            "\n",
            "\u001b[1m> Finished chain.\u001b[0m\n",
            "\u001b[33;1m\u001b[1;3mGenerated Questions: ['What specific aspect does the Langchain framework primarily focus on in the context of AI applications?']\u001b[0m\n",
            "\n",
            "\n",
            "\u001b[1m> Entering new _OpenAIResponseChain chain...\u001b[0m\n",
            "Prompt after formatting:\n",
            "\u001b[32;1m\u001b[1;3mRespond to the user message using any relevant context. If context is provided, you should ground your answer in that context. Once you're done responding return FINISHED.\n",
            "\n",
            ">>> CONTEXT: LangChain streamlines intermediate steps to develop such data-responsive applications, making prompt engineering more efficient. It is designed to develop diverse applications powered by language models more effortlessly, including chatbots, question-answering, content generation, summarizers, and more.\n",
            ">>> USER INPUT: explain in great detail the difference between the langchain framework and baby agi\n",
            ">>> RESPONSE:  The Langchain framework and Baby AGI are two distinct but related concepts in the field of artificial intelligence. While both aim to enhance the capabilities of AI systems, they have different approaches and goals.\n",
            "\n",
            "The Langchain framework is a general-purpose AI framework that can be used for various applications. It is designed to simplify the process of creating generative AI application interfaces by providing a series of automated chains that hold various AI components together. These chains are designed to facilitate a seamless connection between various linguistic elements, enabling AI systems to comprehend and process language in a more context-aware manner. The framework is open-source and supported by an active community, allowing for continuous improvement and development.\n",
            "\n",
            "On the other hand, Baby AGI is a more advanced AI system that can be used to create more complex applications. It draws inspiration from the cognitive development\u001b[0m\n",
            "\n",
            "\u001b[1m> Finished chain.\u001b[0m\n",
            "\u001b[36;1m\u001b[1;3mCurrent Response: The Langchain framework and Baby AGI are two distinct but related concepts in the field of artificial intelligence. While both aim to enhance the capabilities of AI systems, they have different approaches and goals.\n",
            "\n",
            "The Langchain framework is a general-purpose AI framework that can be used for various applications. It is designed to simplify the process of creating generative AI application interfaces by providing a series of automated chains that hold various AI components together. These chains are designed to facilitate a seamless connection between various linguistic elements, enabling AI systems to comprehend and process language in a more context-aware manner. The framework is open-source and supported by an active community, allowing for continuous improvement and development.\n",
            "\n",
            "On the other hand, Baby AGI is a more advanced AI system that can be used to create more complex applications. It draws inspiration from the cognitive development of infants and aims to create an AI system that can learn and adapt to new situations and tasks. Unlike the Langchain framework, Baby AGI is not limited to language-based applications and can be used for a wide range of tasks, including problem-solving, decision-making, and more. It is a more sophisticated and specialized approach to AI development, requiring extensive research and development.\n",
            "\n",
            "In summary, the Langchain framework is a tool for streamlining the development of data-responsive applications, while Baby AGI is a more advanced AI system that aims to create a more human-like intelligence. Both have their unique strengths and applications, and their differences lie in their approach and goals.\u001b[0m\n",
            "Prompt after formatting:\n",
            "\u001b[32;1m\u001b[1;3mRespond to the user message using any relevant context. If context is provided, you should ground your answer in that context. Once you're done responding return FINISHED.\n",
            "\n",
            ">>> CONTEXT: \n",
            ">>> USER INPUT: explain in great detail the difference between the langchain framework and baby agi\n",
            ">>> RESPONSE: The Langchain framework and Baby AGI are two distinct but related concepts in the field of artificial intelligence. While both aim to enhance the capabilities of AI systems, they have different approaches and goals.\n",
            "\n",
            "The Langchain framework is a general-purpose AI framework that can be used for various applications. It is designed to simplify the process of creating generative AI application interfaces by providing a series of automated chains that hold various AI components together. These chains are designed to facilitate a seamless connection between various linguistic elements, enabling AI systems to comprehend and process language in a more context-aware manner. The framework is open-source and supported by an active community, allowing for continuous improvement and development.\n",
            "\n",
            "On the other hand, Baby AGI is a more advanced AI system that can be used to create more complex applications. It draws inspiration from the cognitive development of infants and aims to create an AI system that can learn and adapt to new situations and tasks. Unlike the Langchain framework, Baby AGI is not limited to language-based applications and can be used for a wide range of tasks, including problem-solving, decision-making, and more. It is a more sophisticated and specialized approach to AI development, requiring extensive research and development.\n",
            "\n",
            "In summary, the Langchain framework is a tool for streamlining the development of data-responsive applications, while Baby AGI is a more advanced AI system that aims to create a more human-like intelligence. Both have their unique strengths and applications, and their differences lie in their approach and goals.\u001b[0m\n",
            "\u001b[36;1m\u001b[1;3mCurrent Response: The Langchain framework and Baby AGI are two distinct but related concepts in the field of artificial intelligence. While both aim to enhance the capabilities of AI systems, they have different approaches and goals.\n",
            "\n",
            "The Langchain framework is a general-purpose AI framework that can be used for various applications. It is designed to simplify the process of creating generative AI application interfaces by providing a series of automated chains that hold various AI components together. These chains are designed to facilitate a seamless connection between various linguistic elements, enabling AI systems to comprehend and process language in a more context-aware manner. The framework is open-source and supported by an active community, allowing for continuous improvement and development.\n",
            "\n",
            "On the other hand, Baby AGI is a more advanced AI system that can be used to create more complex applications. It draws inspiration from the cognitive development of infants and aims to create an AI system that can learn and adapt to new situations and tasks. Unlike the Langchain framework, Baby AGI is not limited to language-based applications and can be used for a wide range of tasks, including problem-solving, decision-making, and more. It is a more sophisticated and specialized approach to AI development, requiring extensive research and development.\n",
            "\n",
            "In summary, the Langchain framework is a tool for streamlining the development of data-responsive applications, while Baby AGI is a more advanced AI system that aims to create a more human-like intelligence. Both have their unique strengths and applications, and their differences lie in their approach and goals. \u001b[0m\n",
            "Prompt after formatting:\n",
            "\u001b[32;1m\u001b[1;3mRespond to the user message using any relevant context. If context is provided, you should ground your answer in that context. Once you're done responding return FINISHED.\n",
            "\n",
            ">>> CONTEXT: \n",
            ">>> USER INPUT: explain in great detail the difference between the langchain framework and baby agi\n",
            ">>> RESPONSE: The Langchain framework and Baby AGI are two distinct but related concepts in the field of artificial intelligence. While both aim to enhance the capabilities of AI systems, they have different approaches and goals.\n",
            "\n",
            "The Langchain framework is a general-purpose AI framework that can be used for various applications. It is designed to simplify the process of creating generative AI application interfaces by providing a series of automated chains that hold various AI components together. These chains are designed to facilitate a seamless connection between various linguistic elements, enabling AI systems to comprehend and process language in a more context-aware manner. The framework is open-source and supported by an active community, allowing for continuous improvement and development.\n",
            "\n",
            "On the other hand, Baby AGI is a more advanced AI system that can be used to create more complex applications. It draws inspiration from the cognitive development of infants and aims to create an AI system that can learn and adapt to new situations and tasks. Unlike the Langchain framework, Baby AGI is not limited to language-based applications and can be used for a wide range of tasks, including problem-solving, decision-making, and more. It is a more sophisticated and specialized approach to AI development, requiring extensive research and development.\n",
            "\n",
            "In summary, the Langchain framework is a tool for streamlining the development of data-responsive applications, while Baby AGI is a more advanced AI system that aims to create a more human-like intelligence. Both have their unique strengths and applications, and their differences lie in their approach and goals. \u001b[0m\n",
            "\u001b[36;1m\u001b[1;3mCurrent Response: The Langchain framework and Baby AGI are two distinct but related concepts in the field of artificial intelligence. While both aim to enhance the capabilities of AI systems, they have different approaches and goals.\n",
            "\n",
            "The Langchain framework is a general-purpose AI framework that can be used for various applications. It is designed to simplify the process of creating generative AI application interfaces by providing a series of automated chains that hold various AI components together. These chains are designed to facilitate a seamless connection between various linguistic elements, enabling AI systems to comprehend and process language in a more context-aware manner. The framework is open-source and supported by an active community, allowing for continuous improvement and development.\n",
            "\n",
            "On the other hand, Baby AGI is a more advanced AI system that can be used to create more complex applications. It draws inspiration from the cognitive development of infants and aims to create an AI system that can learn and adapt to new situations and tasks. Unlike the Langchain framework, Baby AGI is not limited to language-based applications and can be used for a wide range of tasks, including problem-solving, decision-making, and more. It is a more sophisticated and specialized approach to AI development, requiring extensive research and development.\n",
            "\n",
            "In summary, the Langchain framework is a tool for streamlining the development of data-responsive applications, while Baby AGI is a more advanced AI system that aims to create a more human-like intelligence. Both have their unique strengths and applications, and their differences lie in their approach and goals. \u001b[0m\n",
            "Prompt after formatting:\n",
            "\u001b[32;1m\u001b[1;3mRespond to the user message using any relevant context. If context is provided, you should ground your answer in that context. Once you're done responding return FINISHED.\n",
            "\n",
            ">>> CONTEXT: \n",
            ">>> USER INPUT: explain in great detail the difference between the langchain framework and baby agi\n",
            ">>> RESPONSE: The Langchain framework and Baby AGI are two distinct but related concepts in the field of artificial intelligence. While both aim to enhance the capabilities of AI systems, they have different approaches and goals.\n",
            "\n",
            "The Langchain framework is a general-purpose AI framework that can be used for various applications. It is designed to simplify the process of creating generative AI application interfaces by providing a series of automated chains that hold various AI components together. These chains are designed to facilitate a seamless connection between various linguistic elements, enabling AI systems to comprehend and process language in a more context-aware manner. The framework is open-source and supported by an active community, allowing for continuous improvement and development.\n",
            "\n",
            "On the other hand, Baby AGI is a more advanced AI system that can be used to create more complex applications. It draws inspiration from the cognitive development of infants and aims to create an AI system that can learn and adapt to new situations and tasks. Unlike the Langchain framework, Baby AGI is not limited to language-based applications and can be used for a wide range of tasks, including problem-solving, decision-making, and more. It is a more sophisticated and specialized approach to AI development, requiring extensive research and development.\n",
            "\n",
            "In summary, the Langchain framework is a tool for streamlining the development of data-responsive applications, while Baby AGI is a more advanced AI system that aims to create a more human-like intelligence. Both have their unique strengths and applications, and their differences lie in their approach and goals. \u001b[0m\n",
            "\u001b[36;1m\u001b[1;3mCurrent Response: The Langchain framework and Baby AGI are two distinct but related concepts in the field of artificial intelligence. While both aim to enhance the capabilities of AI systems, they have different approaches and goals.\n",
            "\n",
            "The Langchain framework is a general-purpose AI framework that can be used for various applications. It is designed to simplify the process of creating generative AI application interfaces by providing a series of automated chains that hold various AI components together. These chains are designed to facilitate a seamless connection between various linguistic elements, enabling AI systems to comprehend and process language in a more context-aware manner. The framework is open-source and supported by an active community, allowing for continuous improvement and development.\n",
            "\n",
            "On the other hand, Baby AGI is a more advanced AI system that can be used to create more complex applications. It draws inspiration from the cognitive development of infants and aims to create an AI system that can learn and adapt to new situations and tasks. Unlike the Langchain framework, Baby AGI is not limited to language-based applications and can be used for a wide range of tasks, including problem-solving, decision-making, and more. It is a more sophisticated and specialized approach to AI development, requiring extensive research and development.\n",
            "\n",
            "In summary, the Langchain framework is a tool for streamlining the development of data-responsive applications, while Baby AGI is a more advanced AI system that aims to create a more human-like intelligence. Both have their unique strengths and applications, and their differences lie in their approach and goals. \u001b[0m\n",
            "Prompt after formatting:\n",
            "\u001b[32;1m\u001b[1;3mRespond to the user message using any relevant context. If context is provided, you should ground your answer in that context. Once you're done responding return FINISHED.\n",
            "\n",
            ">>> CONTEXT: \n",
            ">>> USER INPUT: explain in great detail the difference between the langchain framework and baby agi\n",
            ">>> RESPONSE: The Langchain framework and Baby AGI are two distinct but related concepts in the field of artificial intelligence. While both aim to enhance the capabilities of AI systems, they have different approaches and goals.\n",
            "\n",
            "The Langchain framework is a general-purpose AI framework that can be used for various applications. It is designed to simplify the process of creating generative AI application interfaces by providing a series of automated chains that hold various AI components together. These chains are designed to facilitate a seamless connection between various linguistic elements, enabling AI systems to comprehend and process language in a more context-aware manner. The framework is open-source and supported by an active community, allowing for continuous improvement and development.\n",
            "\n",
            "On the other hand, Baby AGI is a more advanced AI system that can be used to create more complex applications. It draws inspiration from the cognitive development of infants and aims to create an AI system that can learn and adapt to new situations and tasks. Unlike the Langchain framework, Baby AGI is not limited to language-based applications and can be used for a wide range of tasks, including problem-solving, decision-making, and more. It is a more sophisticated and specialized approach to AI development, requiring extensive research and development.\n",
            "\n",
            "In summary, the Langchain framework is a tool for streamlining the development of data-responsive applications, while Baby AGI is a more advanced AI system that aims to create a more human-like intelligence. Both have their unique strengths and applications, and their differences lie in their approach and goals. \u001b[0m\n",
            "\u001b[36;1m\u001b[1;3mCurrent Response: The Langchain framework and Baby AGI are two distinct but related concepts in the field of artificial intelligence. While both aim to enhance the capabilities of AI systems, they have different approaches and goals.\n",
            "\n",
            "The Langchain framework is a general-purpose AI framework that can be used for various applications. It is designed to simplify the process of creating generative AI application interfaces by providing a series of automated chains that hold various AI components together. These chains are designed to facilitate a seamless connection between various linguistic elements, enabling AI systems to comprehend and process language in a more context-aware manner. The framework is open-source and supported by an active community, allowing for continuous improvement and development.\n",
            "\n",
            "On the other hand, Baby AGI is a more advanced AI system that can be used to create more complex applications. It draws inspiration from the cognitive development of infants and aims to create an AI system that can learn and adapt to new situations and tasks. Unlike the Langchain framework, Baby AGI is not limited to language-based applications and can be used for a wide range of tasks, including problem-solving, decision-making, and more. It is a more sophisticated and specialized approach to AI development, requiring extensive research and development.\n",
            "\n",
            "In summary, the Langchain framework is a tool for streamlining the development of data-responsive applications, while Baby AGI is a more advanced AI system that aims to create a more human-like intelligence. Both have their unique strengths and applications, and their differences lie in their approach and goals. \u001b[0m\n",
            "Prompt after formatting:\n",
            "\u001b[32;1m\u001b[1;3mRespond to the user message using any relevant context. If context is provided, you should ground your answer in that context. Once you're done responding return FINISHED.\n",
            "\n",
            ">>> CONTEXT: \n",
            ">>> USER INPUT: explain in great detail the difference between the langchain framework and baby agi\n",
            ">>> RESPONSE: The Langchain framework and Baby AGI are two distinct but related concepts in the field of artificial intelligence. While both aim to enhance the capabilities of AI systems, they have different approaches and goals.\n",
            "\n",
            "The Langchain framework is a general-purpose AI framework that can be used for various applications. It is designed to simplify the process of creating generative AI application interfaces by providing a series of automated chains that hold various AI components together. These chains are designed to facilitate a seamless connection between various linguistic elements, enabling AI systems to comprehend and process language in a more context-aware manner. The framework is open-source and supported by an active community, allowing for continuous improvement and development.\n",
            "\n",
            "On the other hand, Baby AGI is a more advanced AI system that can be used to create more complex applications. It draws inspiration from the cognitive development of infants and aims to create an AI system that can learn and adapt to new situations and tasks. Unlike the Langchain framework, Baby AGI is not limited to language-based applications and can be used for a wide range of tasks, including problem-solving, decision-making, and more. It is a more sophisticated and specialized approach to AI development, requiring extensive research and development.\n",
            "\n",
            "In summary, the Langchain framework is a tool for streamlining the development of data-responsive applications, while Baby AGI is a more advanced AI system that aims to create a more human-like intelligence. Both have their unique strengths and applications, and their differences lie in their approach and goals. \u001b[0m\n",
            "\u001b[36;1m\u001b[1;3mCurrent Response: The Langchain framework and Baby AGI are two distinct but related concepts in the field of artificial intelligence. While both aim to enhance the capabilities of AI systems, they have different approaches and goals.\n",
            "\n",
            "The Langchain framework is a general-purpose AI framework that can be used for various applications. It is designed to simplify the process of creating generative AI application interfaces by providing a series of automated chains that hold various AI components together. These chains are designed to facilitate a seamless connection between various linguistic elements, enabling AI systems to comprehend and process language in a more context-aware manner. The framework is open-source and supported by an active community, allowing for continuous improvement and development.\n",
            "\n",
            "On the other hand, Baby AGI is a more advanced AI system that can be used to create more complex applications. It draws inspiration from the cognitive development of infants and aims to create an AI system that can learn and adapt to new situations and tasks. Unlike the Langchain framework, Baby AGI is not limited to language-based applications and can be used for a wide range of tasks, including problem-solving, decision-making, and more. It is a more sophisticated and specialized approach to AI development, requiring extensive research and development.\n",
            "\n",
            "In summary, the Langchain framework is a tool for streamlining the development of data-responsive applications, while Baby AGI is a more advanced AI system that aims to create a more human-like intelligence. Both have their unique strengths and applications, and their differences lie in their approach and goals. \u001b[0m\n",
            "Prompt after formatting:\n",
            "\u001b[32;1m\u001b[1;3mRespond to the user message using any relevant context. If context is provided, you should ground your answer in that context. Once you're done responding return FINISHED.\n",
            "\n",
            ">>> CONTEXT: \n",
            ">>> USER INPUT: explain in great detail the difference between the langchain framework and baby agi\n",
            ">>> RESPONSE: The Langchain framework and Baby AGI are two distinct but related concepts in the field of artificial intelligence. While both aim to enhance the capabilities of AI systems, they have different approaches and goals.\n",
            "\n",
            "The Langchain framework is a general-purpose AI framework that can be used for various applications. It is designed to simplify the process of creating generative AI application interfaces by providing a series of automated chains that hold various AI components together. These chains are designed to facilitate a seamless connection between various linguistic elements, enabling AI systems to comprehend and process language in a more context-aware manner. The framework is open-source and supported by an active community, allowing for continuous improvement and development.\n",
            "\n",
            "On the other hand, Baby AGI is a more advanced AI system that can be used to create more complex applications. It draws inspiration from the cognitive development of infants and aims to create an AI system that can learn and adapt to new situations and tasks. Unlike the Langchain framework, Baby AGI is not limited to language-based applications and can be used for a wide range of tasks, including problem-solving, decision-making, and more. It is a more sophisticated and specialized approach to AI development, requiring extensive research and development.\n",
            "\n",
            "In summary, the Langchain framework is a tool for streamlining the development of data-responsive applications, while Baby AGI is a more advanced AI system that aims to create a more human-like intelligence. Both have their unique strengths and applications, and their differences lie in their approach and goals. \u001b[0m\n",
            "\u001b[36;1m\u001b[1;3mCurrent Response: The Langchain framework and Baby AGI are two distinct but related concepts in the field of artificial intelligence. While both aim to enhance the capabilities of AI systems, they have different approaches and goals.\n",
            "\n",
            "The Langchain framework is a general-purpose AI framework that can be used for various applications. It is designed to simplify the process of creating generative AI application interfaces by providing a series of automated chains that hold various AI components together. These chains are designed to facilitate a seamless connection between various linguistic elements, enabling AI systems to comprehend and process language in a more context-aware manner. The framework is open-source and supported by an active community, allowing for continuous improvement and development.\n",
            "\n",
            "On the other hand, Baby AGI is a more advanced AI system that can be used to create more complex applications. It draws inspiration from the cognitive development of infants and aims to create an AI system that can learn and adapt to new situations and tasks. Unlike the Langchain framework, Baby AGI is not limited to language-based applications and can be used for a wide range of tasks, including problem-solving, decision-making, and more. It is a more sophisticated and specialized approach to AI development, requiring extensive research and development.\n",
            "\n",
            "In summary, the Langchain framework is a tool for streamlining the development of data-responsive applications, while Baby AGI is a more advanced AI system that aims to create a more human-like intelligence. Both have their unique strengths and applications, and their differences lie in their approach and goals. \u001b[0m\n",
            "Prompt after formatting:\n",
            "\u001b[32;1m\u001b[1;3mRespond to the user message using any relevant context. If context is provided, you should ground your answer in that context. Once you're done responding return FINISHED.\n",
            "\n",
            ">>> CONTEXT: \n",
            ">>> USER INPUT: explain in great detail the difference between the langchain framework and baby agi\n",
            ">>> RESPONSE: The Langchain framework and Baby AGI are two distinct but related concepts in the field of artificial intelligence. While both aim to enhance the capabilities of AI systems, they have different approaches and goals.\n",
            "\n",
            "The Langchain framework is a general-purpose AI framework that can be used for various applications. It is designed to simplify the process of creating generative AI application interfaces by providing a series of automated chains that hold various AI components together. These chains are designed to facilitate a seamless connection between various linguistic elements, enabling AI systems to comprehend and process language in a more context-aware manner. The framework is open-source and supported by an active community, allowing for continuous improvement and development.\n",
            "\n",
            "On the other hand, Baby AGI is a more advanced AI system that can be used to create more complex applications. It draws inspiration from the cognitive development of infants and aims to create an AI system that can learn and adapt to new situations and tasks. Unlike the Langchain framework, Baby AGI is not limited to language-based applications and can be used for a wide range of tasks, including problem-solving, decision-making, and more. It is a more sophisticated and specialized approach to AI development, requiring extensive research and development.\n",
            "\n",
            "In summary, the Langchain framework is a tool for streamlining the development of data-responsive applications, while Baby AGI is a more advanced AI system that aims to create a more human-like intelligence. Both have their unique strengths and applications, and their differences lie in their approach and goals. \u001b[0m\n",
            "\u001b[36;1m\u001b[1;3mCurrent Response: The Langchain framework and Baby AGI are two distinct but related concepts in the field of artificial intelligence. While both aim to enhance the capabilities of AI systems, they have different approaches and goals.\n",
            "\n",
            "The Langchain framework is a general-purpose AI framework that can be used for various applications. It is designed to simplify the process of creating generative AI application interfaces by providing a series of automated chains that hold various AI components together. These chains are designed to facilitate a seamless connection between various linguistic elements, enabling AI systems to comprehend and process language in a more context-aware manner. The framework is open-source and supported by an active community, allowing for continuous improvement and development.\n",
            "\n",
            "On the other hand, Baby AGI is a more advanced AI system that can be used to create more complex applications. It draws inspiration from the cognitive development of infants and aims to create an AI system that can learn and adapt to new situations and tasks. Unlike the Langchain framework, Baby AGI is not limited to language-based applications and can be used for a wide range of tasks, including problem-solving, decision-making, and more. It is a more sophisticated and specialized approach to AI development, requiring extensive research and development.\n",
            "\n",
            "In summary, the Langchain framework is a tool for streamlining the development of data-responsive applications, while Baby AGI is a more advanced AI system that aims to create a more human-like intelligence. Both have their unique strengths and applications, and their differences lie in their approach and goals. \u001b[0m\n",
            "Prompt after formatting:\n",
            "\u001b[32;1m\u001b[1;3mRespond to the user message using any relevant context. If context is provided, you should ground your answer in that context. Once you're done responding return FINISHED.\n",
            "\n",
            ">>> CONTEXT: \n",
            ">>> USER INPUT: explain in great detail the difference between the langchain framework and baby agi\n",
            ">>> RESPONSE: The Langchain framework and Baby AGI are two distinct but related concepts in the field of artificial intelligence. While both aim to enhance the capabilities of AI systems, they have different approaches and goals.\n",
            "\n",
            "The Langchain framework is a general-purpose AI framework that can be used for various applications. It is designed to simplify the process of creating generative AI application interfaces by providing a series of automated chains that hold various AI components together. These chains are designed to facilitate a seamless connection between various linguistic elements, enabling AI systems to comprehend and process language in a more context-aware manner. The framework is open-source and supported by an active community, allowing for continuous improvement and development.\n",
            "\n",
            "On the other hand, Baby AGI is a more advanced AI system that can be used to create more complex applications. It draws inspiration from the cognitive development of infants and aims to create an AI system that can learn and adapt to new situations and tasks. Unlike the Langchain framework, Baby AGI is not limited to language-based applications and can be used for a wide range of tasks, including problem-solving, decision-making, and more. It is a more sophisticated and specialized approach to AI development, requiring extensive research and development.\n",
            "\n",
            "In summary, the Langchain framework is a tool for streamlining the development of data-responsive applications, while Baby AGI is a more advanced AI system that aims to create a more human-like intelligence. Both have their unique strengths and applications, and their differences lie in their approach and goals. \u001b[0m\n",
            "\n",
            "\u001b[1m> Finished chain.\u001b[0m\n"
          ]
        },
        {
          "output_type": "execute_result",
          "data": {
            "text/plain": [
              "'The Langchain framework and Baby AGI are two distinct but related concepts in the field of artificial intelligence. While both aim to enhance the capabilities of AI systems, they have different approaches and goals.\\n\\nThe Langchain framework is a general-purpose AI framework that can be used for various applications. It is designed to simplify the process of creating generative AI application interfaces by providing a series of automated chains that hold various AI components together. These chains are designed to facilitate a seamless connection between various linguistic elements, enabling AI systems to comprehend and process language in a more context-aware manner. The framework is open-source and supported by an active community, allowing for continuous improvement and development.\\n\\nOn the other hand, Baby AGI is a more advanced AI system that can be used to create more complex applications. It draws inspiration from the cognitive development of infants and aims to create an AI system that can learn and adapt to new situations and tasks. Unlike the Langchain framework, Baby AGI is not limited to language-based applications and can be used for a wide range of tasks, including problem-solving, decision-making, and more. It is a more sophisticated and specialized approach to AI development, requiring extensive research and development.\\n\\nIn summary, the Langchain framework is a tool for streamlining the development of data-responsive applications, while Baby AGI is a more advanced AI system that aims to create a more human-like intelligence. Both have their unique strengths and applications, and their differences lie in their approach and goals. '"
            ],
            "application/vnd.google.colaboratory.intrinsic+json": {
              "type": "string"
            }
          },
          "metadata": {},
          "execution_count": 34
        }
      ]
    },
    {
      "cell_type": "code",
      "source": [
        "llm = OpenAI()\n",
        "llm(query)"
      ],
      "metadata": {
        "colab": {
          "base_uri": "https://localhost:8080/",
          "height": 246
        },
        "id": "hPltun_ok6sI",
        "outputId": "e19da7a4-0bf4-4f2a-ea1a-849385e6ce28"
      },
      "execution_count": 35,
      "outputs": [
        {
          "output_type": "stream",
          "name": "stderr",
          "text": [
            "/usr/local/lib/python3.10/dist-packages/langchain_core/_api/deprecation.py:117: LangChainDeprecationWarning: The function `__call__` was deprecated in LangChain 0.1.7 and will be removed in 0.2.0. Use invoke instead.\n",
            "  warn_deprecated(\n"
          ]
        },
        {
          "output_type": "execute_result",
          "data": {
            "text/plain": [
              "'\\n\\nThe Langchain Framework and Baby AGI are two different approaches to creating artificial general intelligence (AGI). While both aim to create an intelligent system that can perform a wide range of tasks and adapt to new situations, they differ in their underlying principles and methods.\\n\\n1. Definition\\n\\nThe Langchain Framework, also known as the Language Chain, is a theoretical framework proposed by computer scientist Ben Goertzel for creating AGI. It is based on the idea that language is the key to intelligence and that a system that can understand and use language at a human level can also exhibit general intelligence.\\n\\nBaby AGI, on the other hand, is a specific AGI project developed by OpenCog Foundation, led by Ben Goertzel. It aims to create an AGI system that learns and develops in a similar way to a human infant, starting with a minimal set of cognitive abilities and gradually building upon them through learning and experience.\\n\\n2. Approach\\n\\nThe Langchain Framework is a top-down approach to AGI, meaning it starts with a high-level concept of intelligence and works towards creating a system that embodies this concept. In this case, the concept is human-level language understanding and use.\\n\\nBaby AGI, on the other hand, is a bottom-up approach, inspired by the'"
            ],
            "application/vnd.google.colaboratory.intrinsic+json": {
              "type": "string"
            }
          },
          "metadata": {},
          "execution_count": 35
        }
      ]
    },
    {
      "cell_type": "code",
      "source": [
        "flare.run(\"how are the origin stories of langchain and bitcoin similar or different?\")"
      ],
      "metadata": {
        "colab": {
          "base_uri": "https://localhost:8080/",
          "height": 1000
        },
        "id": "TRaYXBEIoH99",
        "outputId": "0697cd64-7cbe-423a-9b61-a0f30da2587b"
      },
      "execution_count": 36,
      "outputs": [
        {
          "output_type": "stream",
          "name": "stdout",
          "text": [
            "\n",
            "\n",
            "\u001b[1m> Entering new FlareChain chain...\u001b[0m\n",
            "\u001b[36;1m\u001b[1;3mCurrent Response: \u001b[0m\n",
            "Prompt after formatting:\n",
            "\u001b[32;1m\u001b[1;3mRespond to the user message using any relevant context. If context is provided, you should ground your answer in that context. Once you're done responding return FINISHED.\n",
            "\n",
            ">>> CONTEXT: \n",
            ">>> USER INPUT: how are the origin stories of langchain and bitcoin similar or different?\n",
            ">>> RESPONSE: \u001b[0m\n",
            "\n",
            "\n",
            "\u001b[1m> Entering new QuestionGeneratorChain chain...\u001b[0m\n",
            "Prompt after formatting:\n",
            "\u001b[32;1m\u001b[1;3mGiven a user input and an existing partial response as context, ask a question to which the answer is the given term/entity/phrase:\n",
            "\n",
            ">>> USER INPUT: how are the origin stories of langchain and bitcoin similar or different?\n",
            ">>> EXISTING PARTIAL RESPONSE:  \n",
            "The origin stories of Langchain and Bitcoin are quite different. Langchain was created as a decentralized platform for language translation, while Bitcoin was created as a decentralized digital currency. However, both were created with the goal of decentralization and removing the need for intermediaries. Additionally, both have gained a lot of attention and popularity in the world of blockchain technology.\n",
            "\n",
            "The question to which the answer is the term/entity/phrase \" decentralized platform for\" is:\u001b[0m\n",
            "Prompt after formatting:\n",
            "\u001b[32;1m\u001b[1;3mGiven a user input and an existing partial response as context, ask a question to which the answer is the given term/entity/phrase:\n",
            "\n",
            ">>> USER INPUT: how are the origin stories of langchain and bitcoin similar or different?\n",
            ">>> EXISTING PARTIAL RESPONSE:  \n",
            "The origin stories of Langchain and Bitcoin are quite different. Langchain was created as a decentralized platform for language translation, while Bitcoin was created as a decentralized digital currency. However, both were created with the goal of decentralization and removing the need for intermediaries. Additionally, both have gained a lot of attention and popularity in the world of blockchain technology.\n",
            "\n",
            "The question to which the answer is the term/entity/phrase \" decentralization and removing the need\" is:\u001b[0m\n",
            "\n",
            "\u001b[1m> Finished chain.\u001b[0m\n",
            "\u001b[33;1m\u001b[1;3mGenerated Questions: ['What was Langchain created as?', 'What common goal do the origin stories of Langchain and Bitcoin share in terms of their creation?']\u001b[0m\n",
            "\n",
            "\n",
            "\u001b[1m> Entering new _OpenAIResponseChain chain...\u001b[0m\n",
            "Prompt after formatting:\n",
            "\u001b[32;1m\u001b[1;3mRespond to the user message using any relevant context. If context is provided, you should ground your answer in that context. Once you're done responding return FINISHED.\n",
            "\n",
            ">>> CONTEXT: What is LangChain? LangChain was built as the easiest way for a developer to go from idea to demo for their AI application. Today, foundational LLM models are incredibly powerful. But by themselves, they aren't a product.\n",
            "\n",
            "A look at the origins and purpose behind the world's first cryptocurrency, which was launched by Satoshi Nakamoto in 2009. Missing: goal stories Langchain. Blockchain was officially introduced in 2009 with the release of its first application -- the Bitcoin cryptocurrency -- but its roots reach ... Missing: Langchain | Show results with:Langchain. Bitcoin was the first cryptocurrency created and is now the most valuable and well known. It was first launched in January 2009 by a computer ... Missing: Langchain | Show results with:Langchain. Bitcoin originated around the time of the global financial crisis, in 2008–09. It is unclear whether the ostensible founder, the cryptically named Satoshi ... Although Bitcoin was the first established cryptocurrency, there had been previous attempts at creating online currencies with ledgers secured ... ... origin stories of Langchain and Bitcoin in terms of their similarities or differences?', 'When was Langchain created and by whom?', 'What was the purpose of ... Missing: goal | Show results with:goal. Unlike fiat currency, bitcoin is created, distributed, traded, and stored using a decentralized ledger system known as a blockchain. Bitcoin and its ledger are ... Missing: Langchain | Show results with:Langchain. The first cryptocurrency was eCash, created by David Chaum's company DigiCash in 1990. There were several attempts to create a viable and accepted ... Missing: Langchain | Show results with:Langchain. Bitcoin was created (by a person or group that remains unidentified to this day) as a way to conduct transactions without the intervention of a trusted third ... Missing: origin Langchain. A lot of people don't really understand what Custom GPTs can really do. So I'd like to explain. First, they can have Custom Instructions, ...\n",
            ">>> USER INPUT: how are the origin stories of langchain and bitcoin similar or different?\n",
            ">>> RESPONSE: \u001b[0m\n",
            "\n",
            "\u001b[1m> Finished chain.\u001b[0m\n",
            "\u001b[36;1m\u001b[1;3mCurrent Response:  The origin stories of Langchain and Bitcoin are quite different. While Bitcoin was created in 2009 by an unknown person or group, Langchain was created in 2019 as a platform for developers to easily create AI applications. However, both have a common goal of revolutionizing the way we conduct transactions and store value.\u001b[0m\n",
            "Prompt after formatting:\n",
            "\u001b[32;1m\u001b[1;3mRespond to the user message using any relevant context. If context is provided, you should ground your answer in that context. Once you're done responding return FINISHED.\n",
            "\n",
            ">>> CONTEXT: \n",
            ">>> USER INPUT: how are the origin stories of langchain and bitcoin similar or different?\n",
            ">>> RESPONSE:  The origin stories of Langchain and Bitcoin are quite different. While Bitcoin was created in 2009 by an unknown person or group, Langchain was created in 2019 as a platform for developers to easily create AI applications. However, both have a common goal of revolutionizing the way we conduct transactions and store value.\u001b[0m\n",
            "\u001b[36;1m\u001b[1;3mCurrent Response: The origin stories of Langchain and Bitcoin are quite different. While Bitcoin was created in 2009 by an unknown person or group, Langchain was created in 2019 as a platform for developers to easily create AI applications. However, both have a common goal of revolutionizing the way we conduct transactions and store value. \u001b[0m\n",
            "Prompt after formatting:\n",
            "\u001b[32;1m\u001b[1;3mRespond to the user message using any relevant context. If context is provided, you should ground your answer in that context. Once you're done responding return FINISHED.\n",
            "\n",
            ">>> CONTEXT: \n",
            ">>> USER INPUT: how are the origin stories of langchain and bitcoin similar or different?\n",
            ">>> RESPONSE: The origin stories of Langchain and Bitcoin are quite different. While Bitcoin was created in 2009 by an unknown person or group, Langchain was created in 2019 as a platform for developers to easily create AI applications. However, both have a common goal of revolutionizing the way we conduct transactions and store value. \u001b[0m\n",
            "\u001b[36;1m\u001b[1;3mCurrent Response: The origin stories of Langchain and Bitcoin are quite different. While Bitcoin was created in 2009 by an unknown person or group, Langchain was created in 2019 as a platform for developers to easily create AI applications. However, both have a common goal of revolutionizing the way we conduct transactions and store value. \u001b[0m\n",
            "Prompt after formatting:\n",
            "\u001b[32;1m\u001b[1;3mRespond to the user message using any relevant context. If context is provided, you should ground your answer in that context. Once you're done responding return FINISHED.\n",
            "\n",
            ">>> CONTEXT: \n",
            ">>> USER INPUT: how are the origin stories of langchain and bitcoin similar or different?\n",
            ">>> RESPONSE: The origin stories of Langchain and Bitcoin are quite different. While Bitcoin was created in 2009 by an unknown person or group, Langchain was created in 2019 as a platform for developers to easily create AI applications. However, both have a common goal of revolutionizing the way we conduct transactions and store value. \u001b[0m\n",
            "\u001b[36;1m\u001b[1;3mCurrent Response: The origin stories of Langchain and Bitcoin are quite different. While Bitcoin was created in 2009 by an unknown person or group, Langchain was created in 2019 as a platform for developers to easily create AI applications. However, both have a common goal of revolutionizing the way we conduct transactions and store value. \u001b[0m\n",
            "Prompt after formatting:\n",
            "\u001b[32;1m\u001b[1;3mRespond to the user message using any relevant context. If context is provided, you should ground your answer in that context. Once you're done responding return FINISHED.\n",
            "\n",
            ">>> CONTEXT: \n",
            ">>> USER INPUT: how are the origin stories of langchain and bitcoin similar or different?\n",
            ">>> RESPONSE: The origin stories of Langchain and Bitcoin are quite different. While Bitcoin was created in 2009 by an unknown person or group, Langchain was created in 2019 as a platform for developers to easily create AI applications. However, both have a common goal of revolutionizing the way we conduct transactions and store value. \u001b[0m\n",
            "\u001b[36;1m\u001b[1;3mCurrent Response: The origin stories of Langchain and Bitcoin are quite different. While Bitcoin was created in 2009 by an unknown person or group, Langchain was created in 2019 as a platform for developers to easily create AI applications. However, both have a common goal of revolutionizing the way we conduct transactions and store value. \u001b[0m\n",
            "Prompt after formatting:\n",
            "\u001b[32;1m\u001b[1;3mRespond to the user message using any relevant context. If context is provided, you should ground your answer in that context. Once you're done responding return FINISHED.\n",
            "\n",
            ">>> CONTEXT: \n",
            ">>> USER INPUT: how are the origin stories of langchain and bitcoin similar or different?\n",
            ">>> RESPONSE: The origin stories of Langchain and Bitcoin are quite different. While Bitcoin was created in 2009 by an unknown person or group, Langchain was created in 2019 as a platform for developers to easily create AI applications. However, both have a common goal of revolutionizing the way we conduct transactions and store value. \u001b[0m\n",
            "\u001b[36;1m\u001b[1;3mCurrent Response: The origin stories of Langchain and Bitcoin are quite different. While Bitcoin was created in 2009 by an unknown person or group, Langchain was created in 2019 as a platform for developers to easily create AI applications. However, both have a common goal of revolutionizing the way we conduct transactions and store value. \u001b[0m\n",
            "Prompt after formatting:\n",
            "\u001b[32;1m\u001b[1;3mRespond to the user message using any relevant context. If context is provided, you should ground your answer in that context. Once you're done responding return FINISHED.\n",
            "\n",
            ">>> CONTEXT: \n",
            ">>> USER INPUT: how are the origin stories of langchain and bitcoin similar or different?\n",
            ">>> RESPONSE: The origin stories of Langchain and Bitcoin are quite different. While Bitcoin was created in 2009 by an unknown person or group, Langchain was created in 2019 as a platform for developers to easily create AI applications. However, both have a common goal of revolutionizing the way we conduct transactions and store value. \u001b[0m\n",
            "\u001b[36;1m\u001b[1;3mCurrent Response: The origin stories of Langchain and Bitcoin are quite different. While Bitcoin was created in 2009 by an unknown person or group, Langchain was created in 2019 as a platform for developers to easily create AI applications. However, both have a common goal of revolutionizing the way we conduct transactions and store value. \u001b[0m\n",
            "Prompt after formatting:\n",
            "\u001b[32;1m\u001b[1;3mRespond to the user message using any relevant context. If context is provided, you should ground your answer in that context. Once you're done responding return FINISHED.\n",
            "\n",
            ">>> CONTEXT: \n",
            ">>> USER INPUT: how are the origin stories of langchain and bitcoin similar or different?\n",
            ">>> RESPONSE: The origin stories of Langchain and Bitcoin are quite different. While Bitcoin was created in 2009 by an unknown person or group, Langchain was created in 2019 as a platform for developers to easily create AI applications. However, both have a common goal of revolutionizing the way we conduct transactions and store value. \u001b[0m\n",
            "\u001b[36;1m\u001b[1;3mCurrent Response: The origin stories of Langchain and Bitcoin are quite different. While Bitcoin was created in 2009 by an unknown person or group, Langchain was created in 2019 as a platform for developers to easily create AI applications. However, both have a common goal of revolutionizing the way we conduct transactions and store value. \u001b[0m\n",
            "Prompt after formatting:\n",
            "\u001b[32;1m\u001b[1;3mRespond to the user message using any relevant context. If context is provided, you should ground your answer in that context. Once you're done responding return FINISHED.\n",
            "\n",
            ">>> CONTEXT: \n",
            ">>> USER INPUT: how are the origin stories of langchain and bitcoin similar or different?\n",
            ">>> RESPONSE: The origin stories of Langchain and Bitcoin are quite different. While Bitcoin was created in 2009 by an unknown person or group, Langchain was created in 2019 as a platform for developers to easily create AI applications. However, both have a common goal of revolutionizing the way we conduct transactions and store value. \u001b[0m\n",
            "\u001b[36;1m\u001b[1;3mCurrent Response: The origin stories of Langchain and Bitcoin are quite different. While Bitcoin was created in 2009 by an unknown person or group, Langchain was created in 2019 as a platform for developers to easily create AI applications. However, both have a common goal of revolutionizing the way we conduct transactions and store value. \u001b[0m\n",
            "Prompt after formatting:\n",
            "\u001b[32;1m\u001b[1;3mRespond to the user message using any relevant context. If context is provided, you should ground your answer in that context. Once you're done responding return FINISHED.\n",
            "\n",
            ">>> CONTEXT: \n",
            ">>> USER INPUT: how are the origin stories of langchain and bitcoin similar or different?\n",
            ">>> RESPONSE: The origin stories of Langchain and Bitcoin are quite different. While Bitcoin was created in 2009 by an unknown person or group, Langchain was created in 2019 as a platform for developers to easily create AI applications. However, both have a common goal of revolutionizing the way we conduct transactions and store value. \u001b[0m\n",
            "\n",
            "\u001b[1m> Finished chain.\u001b[0m\n"
          ]
        },
        {
          "output_type": "execute_result",
          "data": {
            "text/plain": [
              "'The origin stories of Langchain and Bitcoin are quite different. While Bitcoin was created in 2009 by an unknown person or group, Langchain was created in 2019 as a platform for developers to easily create AI applications. However, both have a common goal of revolutionizing the way we conduct transactions and store value. '"
            ],
            "application/vnd.google.colaboratory.intrinsic+json": {
              "type": "string"
            }
          },
          "metadata": {},
          "execution_count": 36
        }
      ]
    },
    {
      "cell_type": "code",
      "source": [],
      "metadata": {
        "id": "t86b8TktoMpx"
      },
      "execution_count": null,
      "outputs": []
    }
  ]
}